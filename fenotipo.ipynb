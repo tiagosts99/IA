{
 "cells": [
  {
   "cell_type": "code",
   "execution_count": null,
   "metadata": {},
   "outputs": [],
   "source": [
    "import pandas as pd\n",
    "import numbers as np\n",
    "import matplotlib.pyplot as plot\n",
    "import seaborn as sns\n",
    "\n",
    "df = pd.read_csv('dados_fenotipo.csv', na_values= ' ')\n",
    "df"
   ]
  },
  {
   "cell_type": "code",
   "execution_count": null,
   "metadata": {},
   "outputs": [],
   "source": [
    "# IMC\n",
    "df['IMC'] = round(df['Peso'] / (df['Altura'] ** 2),2) #Cria a coluna IMC e calcula os valores\n",
    "df"
   ]
  },
  {
   "cell_type": "code",
   "execution_count": null,
   "metadata": {},
   "outputs": [],
   "source": [
    "# Indentificando os Outliers\n",
    "df['Outlier'] = df['IMC'].apply(lambda z: '1' if z < 18.5 or z > 40 else '0')\n",
    "sns.scatterplot(x=df['Peso'], y=df['Altura'], hue=df['Outlier'], palette={'0': 'blue', '1': 'red'})# Cria uma colunar Outlier\n",
    "plot.show()\n",
    "df"
   ]
  },
  {
   "cell_type": "code",
   "execution_count": 62,
   "metadata": {},
   "outputs": [],
   "source": [
    "# Removendo os Outliers\n",
    "df = df.drop(df[df['Outlier'] == '1'].index)\n",
    "df.reset_index(drop=True, inplace=True) #Reseta o Index\n",
    "df = df.drop('Outlier', axis=1) #Remove a coluna Outrilier\n",
    "df\n",
    "df.to_csv('dados_fenotipo.csv', index=False)"
   ]
  }
 ],
 "metadata": {
  "kernelspec": {
   "display_name": "Python 3",
   "language": "python",
   "name": "python3"
  },
  "language_info": {
   "codemirror_mode": {
    "name": "ipython",
    "version": 3
   },
   "file_extension": ".py",
   "mimetype": "text/x-python",
   "name": "python",
   "nbconvert_exporter": "python",
   "pygments_lexer": "ipython3",
   "version": "3.10.11"
  },
  "orig_nbformat": 4
 },
 "nbformat": 4,
 "nbformat_minor": 2
}
